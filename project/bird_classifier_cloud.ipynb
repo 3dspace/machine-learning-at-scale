{
  "nbformat": 4,
  "nbformat_minor": 0,
  "metadata": {
    "colab": {
      "name": "bird-classifier-cloud.ipynb",
      "provenance": [],
      "toc_visible": true
    },
    "kernelspec": {
      "name": "python3",
      "display_name": "Python 3"
    }
  },
  "cells": [
    {
      "cell_type": "code",
      "metadata": {
        "id": "SAxzKNXgzqsq",
        "colab_type": "code",
        "colab": {}
      },
      "source": [
        "import pandas as pd"
      ],
      "execution_count": 0,
      "outputs": []
    },
    {
      "cell_type": "code",
      "metadata": {
        "id": "wtGvZR1u25LQ",
        "colab_type": "code",
        "colab": {}
      },
      "source": [
        "def append_ext(fn):\n",
        "    fn2=fn.split('.')[0]\n",
        "    return fn2+\".jpg\""
      ],
      "execution_count": 0,
      "outputs": []
    },
    {
      "cell_type": "code",
      "metadata": {
        "id": "2YpD6fEn1fJ-",
        "colab_type": "code",
        "colab": {
          "base_uri": "https://localhost:8080/",
          "height": 34
        },
        "outputId": "9127fa7e-f341-4eb5-85f4-ed21157231f4"
      },
      "source": [
        "traindf=pd.read_csv('species_numbers.csv',dtype=str)\n",
        "#traindf2=pd.read_csv('species_numbers.csv',dtype=str)\n",
        "#traindf3=pd.read_csv('species_numbers.csv',dtype=str)\n",
        "\n",
        "traindf[\"ID\"]=''\n",
        "#traindf2[\"ID\"]=''\n",
        "#traindf3[\"ID\"]=''\n",
        "# file.split('.')[0]\n",
        "# temp_name=traindf[\"training_sample\"].split('.')[0]\n",
        "traindf[\"ID\"]=traindf[\"training_sample\"].apply(append_ext)\n",
        "#traindf2[\"ID\"]=traindf[\"training_sample\"].apply(append_ext2)\n",
        "#traindf3[\"ID\"]=traindf[\"training_sample\"].apply(append_ext3)\n",
        "#traindf = traindf.append(traindf2)\n",
        "#traindf = traindf.append(traindf3)\n",
        "traindf.columns"
      ],
      "execution_count": 10,
      "outputs": [
        {
          "output_type": "execute_result",
          "data": {
            "text/plain": [
              "Index(['species', 'training_sample', 'ID'], dtype='object')"
            ]
          },
          "metadata": {
            "tags": []
          },
          "execution_count": 10
        }
      ]
    },
    {
      "cell_type": "code",
      "metadata": {
        "id": "pIBazoDH1vmh",
        "colab_type": "code",
        "colab": {
          "base_uri": "https://localhost:8080/",
          "height": 1000
        },
        "outputId": "9acfc47c-781d-492a-d7f9-2c388d021ce4"
      },
      "source": [
        "traindf"
      ],
      "execution_count": 11,
      "outputs": [
        {
          "output_type": "execute_result",
          "data": {
            "text/html": [
              "<div>\n",
              "<style scoped>\n",
              "    .dataframe tbody tr th:only-of-type {\n",
              "        vertical-align: middle;\n",
              "    }\n",
              "\n",
              "    .dataframe tbody tr th {\n",
              "        vertical-align: top;\n",
              "    }\n",
              "\n",
              "    .dataframe thead th {\n",
              "        text-align: right;\n",
              "    }\n",
              "</style>\n",
              "<table border=\"1\" class=\"dataframe\">\n",
              "  <thead>\n",
              "    <tr style=\"text-align: right;\">\n",
              "      <th></th>\n",
              "      <th>species</th>\n",
              "      <th>training_sample</th>\n",
              "      <th>ID</th>\n",
              "    </tr>\n",
              "  </thead>\n",
              "  <tbody>\n",
              "    <tr>\n",
              "      <th>0</th>\n",
              "      <td>1</td>\n",
              "      <td>train_aegithalos_caudatus.wav</td>\n",
              "      <td>train_aegithalos_caudatus.jpg</td>\n",
              "    </tr>\n",
              "    <tr>\n",
              "      <th>1</th>\n",
              "      <td>2</td>\n",
              "      <td>train_alauda_arvensis.wav</td>\n",
              "      <td>train_alauda_arvensis.jpg</td>\n",
              "    </tr>\n",
              "    <tr>\n",
              "      <th>2</th>\n",
              "      <td>3</td>\n",
              "      <td>train_anthus_trivialis.wav</td>\n",
              "      <td>train_anthus_trivialis.jpg</td>\n",
              "    </tr>\n",
              "    <tr>\n",
              "      <th>3</th>\n",
              "      <td>4</td>\n",
              "      <td>train_branta_canadensis.wav</td>\n",
              "      <td>train_branta_canadensis.jpg</td>\n",
              "    </tr>\n",
              "    <tr>\n",
              "      <th>4</th>\n",
              "      <td>5</td>\n",
              "      <td>train_carduelis_chloris.wav</td>\n",
              "      <td>train_carduelis_chloris.jpg</td>\n",
              "    </tr>\n",
              "    <tr>\n",
              "      <th>5</th>\n",
              "      <td>6</td>\n",
              "      <td>train_certhia_brachydactyla.wav</td>\n",
              "      <td>train_certhia_brachydactyla.jpg</td>\n",
              "    </tr>\n",
              "    <tr>\n",
              "      <th>6</th>\n",
              "      <td>7</td>\n",
              "      <td>train_columba_palumbus.wav</td>\n",
              "      <td>train_columba_palumbus.jpg</td>\n",
              "    </tr>\n",
              "    <tr>\n",
              "      <th>7</th>\n",
              "      <td>8</td>\n",
              "      <td>jtrain_corvus_corone.wav</td>\n",
              "      <td>jtrain_corvus_corone.jpg</td>\n",
              "    </tr>\n",
              "    <tr>\n",
              "      <th>8</th>\n",
              "      <td>9</td>\n",
              "      <td>train_cuculus_canorus.wav</td>\n",
              "      <td>train_cuculus_canorus.jpg</td>\n",
              "    </tr>\n",
              "    <tr>\n",
              "      <th>9</th>\n",
              "      <td>10</td>\n",
              "      <td>train_dendrocopos_major.wav</td>\n",
              "      <td>train_dendrocopos_major.jpg</td>\n",
              "    </tr>\n",
              "    <tr>\n",
              "      <th>10</th>\n",
              "      <td>11</td>\n",
              "      <td>train_emberiza_citrinella.wav</td>\n",
              "      <td>train_emberiza_citrinella.jpg</td>\n",
              "    </tr>\n",
              "    <tr>\n",
              "      <th>11</th>\n",
              "      <td>12</td>\n",
              "      <td>train_erithacus_rubecula.wav</td>\n",
              "      <td>train_erithacus_rubecula.jpg</td>\n",
              "    </tr>\n",
              "    <tr>\n",
              "      <th>12</th>\n",
              "      <td>13</td>\n",
              "      <td>train_fringilla_coelebs.wav</td>\n",
              "      <td>train_fringilla_coelebs.jpg</td>\n",
              "    </tr>\n",
              "    <tr>\n",
              "      <th>13</th>\n",
              "      <td>14</td>\n",
              "      <td>train_garrulus_glandarius.wav</td>\n",
              "      <td>train_garrulus_glandarius.jpg</td>\n",
              "    </tr>\n",
              "    <tr>\n",
              "      <th>14</th>\n",
              "      <td>15</td>\n",
              "      <td>train_luscinia_megarhynchos.wav</td>\n",
              "      <td>train_luscinia_megarhynchos.jpg</td>\n",
              "    </tr>\n",
              "    <tr>\n",
              "      <th>15</th>\n",
              "      <td>16</td>\n",
              "      <td>train_motacilla_alba.wav</td>\n",
              "      <td>train_motacilla_alba.jpg</td>\n",
              "    </tr>\n",
              "    <tr>\n",
              "      <th>16</th>\n",
              "      <td>17</td>\n",
              "      <td>train_oriolus_oriolus.wav</td>\n",
              "      <td>train_oriolus_oriolus.jpg</td>\n",
              "    </tr>\n",
              "    <tr>\n",
              "      <th>17</th>\n",
              "      <td>18</td>\n",
              "      <td>train_parus_caeruleus.wav</td>\n",
              "      <td>train_parus_caeruleus.jpg</td>\n",
              "    </tr>\n",
              "    <tr>\n",
              "      <th>18</th>\n",
              "      <td>19</td>\n",
              "      <td>train_parus_major.wav</td>\n",
              "      <td>train_parus_major.jpg</td>\n",
              "    </tr>\n",
              "    <tr>\n",
              "      <th>19</th>\n",
              "      <td>20</td>\n",
              "      <td>train_parus_palustris.wav</td>\n",
              "      <td>train_parus_palustris.jpg</td>\n",
              "    </tr>\n",
              "    <tr>\n",
              "      <th>20</th>\n",
              "      <td>21</td>\n",
              "      <td>train_pavo_cristatus.wav</td>\n",
              "      <td>train_pavo_cristatus.jpg</td>\n",
              "    </tr>\n",
              "    <tr>\n",
              "      <th>21</th>\n",
              "      <td>22</td>\n",
              "      <td>train_phasianus_colchicus.wav</td>\n",
              "      <td>train_phasianus_colchicus.jpg</td>\n",
              "    </tr>\n",
              "    <tr>\n",
              "      <th>22</th>\n",
              "      <td>23</td>\n",
              "      <td>train_phoenicurus_phoenicurus.wav</td>\n",
              "      <td>train_phoenicurus_phoenicurus.jpg</td>\n",
              "    </tr>\n",
              "    <tr>\n",
              "      <th>23</th>\n",
              "      <td>24</td>\n",
              "      <td>train_phylloscopus_collybita.wav</td>\n",
              "      <td>train_phylloscopus_collybita.jpg</td>\n",
              "    </tr>\n",
              "    <tr>\n",
              "      <th>24</th>\n",
              "      <td>25</td>\n",
              "      <td>train_picus_viridis.wav</td>\n",
              "      <td>train_picus_viridis.jpg</td>\n",
              "    </tr>\n",
              "    <tr>\n",
              "      <th>25</th>\n",
              "      <td>26</td>\n",
              "      <td>train_prunella_modularis.wav</td>\n",
              "      <td>train_prunella_modularis.jpg</td>\n",
              "    </tr>\n",
              "    <tr>\n",
              "      <th>26</th>\n",
              "      <td>27</td>\n",
              "      <td>train_sitta_europaea.wav</td>\n",
              "      <td>train_sitta_europaea.jpg</td>\n",
              "    </tr>\n",
              "    <tr>\n",
              "      <th>27</th>\n",
              "      <td>28</td>\n",
              "      <td>train_streptopelia_decaocto.wav</td>\n",
              "      <td>train_streptopelia_decaocto.jpg</td>\n",
              "    </tr>\n",
              "    <tr>\n",
              "      <th>28</th>\n",
              "      <td>29</td>\n",
              "      <td>train_strix_aluco.wav</td>\n",
              "      <td>train_strix_aluco.jpg</td>\n",
              "    </tr>\n",
              "    <tr>\n",
              "      <th>29</th>\n",
              "      <td>30</td>\n",
              "      <td>train_sturnus_vulgaris.wav</td>\n",
              "      <td>train_sturnus_vulgaris.jpg</td>\n",
              "    </tr>\n",
              "    <tr>\n",
              "      <th>30</th>\n",
              "      <td>31</td>\n",
              "      <td>train_sylvia_atricapilla.wav</td>\n",
              "      <td>train_sylvia_atricapilla.jpg</td>\n",
              "    </tr>\n",
              "    <tr>\n",
              "      <th>31</th>\n",
              "      <td>32</td>\n",
              "      <td>train_troglodytes_troglodytes.wav</td>\n",
              "      <td>train_troglodytes_troglodytes.jpg</td>\n",
              "    </tr>\n",
              "    <tr>\n",
              "      <th>32</th>\n",
              "      <td>33</td>\n",
              "      <td>train_turdus_merula.wav</td>\n",
              "      <td>train_turdus_merula.jpg</td>\n",
              "    </tr>\n",
              "    <tr>\n",
              "      <th>33</th>\n",
              "      <td>34</td>\n",
              "      <td>train_turdus_philomelos.wav</td>\n",
              "      <td>train_turdus_philomelos.jpg</td>\n",
              "    </tr>\n",
              "    <tr>\n",
              "      <th>34</th>\n",
              "      <td>35</td>\n",
              "      <td>train_turdus_viscivorus.wav</td>\n",
              "      <td>train_turdus_viscivorus.jpg</td>\n",
              "    </tr>\n",
              "  </tbody>\n",
              "</table>\n",
              "</div>"
            ],
            "text/plain": [
              "   species  ...                                 ID\n",
              "0        1  ...      train_aegithalos_caudatus.jpg\n",
              "1        2  ...          train_alauda_arvensis.jpg\n",
              "2        3  ...         train_anthus_trivialis.jpg\n",
              "3        4  ...        train_branta_canadensis.jpg\n",
              "4        5  ...        train_carduelis_chloris.jpg\n",
              "5        6  ...    train_certhia_brachydactyla.jpg\n",
              "6        7  ...         train_columba_palumbus.jpg\n",
              "7        8  ...           jtrain_corvus_corone.jpg\n",
              "8        9  ...          train_cuculus_canorus.jpg\n",
              "9       10  ...        train_dendrocopos_major.jpg\n",
              "10      11  ...      train_emberiza_citrinella.jpg\n",
              "11      12  ...       train_erithacus_rubecula.jpg\n",
              "12      13  ...        train_fringilla_coelebs.jpg\n",
              "13      14  ...      train_garrulus_glandarius.jpg\n",
              "14      15  ...    train_luscinia_megarhynchos.jpg\n",
              "15      16  ...           train_motacilla_alba.jpg\n",
              "16      17  ...          train_oriolus_oriolus.jpg\n",
              "17      18  ...          train_parus_caeruleus.jpg\n",
              "18      19  ...              train_parus_major.jpg\n",
              "19      20  ...          train_parus_palustris.jpg\n",
              "20      21  ...           train_pavo_cristatus.jpg\n",
              "21      22  ...      train_phasianus_colchicus.jpg\n",
              "22      23  ...  train_phoenicurus_phoenicurus.jpg\n",
              "23      24  ...   train_phylloscopus_collybita.jpg\n",
              "24      25  ...            train_picus_viridis.jpg\n",
              "25      26  ...       train_prunella_modularis.jpg\n",
              "26      27  ...           train_sitta_europaea.jpg\n",
              "27      28  ...    train_streptopelia_decaocto.jpg\n",
              "28      29  ...              train_strix_aluco.jpg\n",
              "29      30  ...         train_sturnus_vulgaris.jpg\n",
              "30      31  ...       train_sylvia_atricapilla.jpg\n",
              "31      32  ...  train_troglodytes_troglodytes.jpg\n",
              "32      33  ...            train_turdus_merula.jpg\n",
              "33      34  ...        train_turdus_philomelos.jpg\n",
              "34      35  ...        train_turdus_viscivorus.jpg\n",
              "\n",
              "[35 rows x 3 columns]"
            ]
          },
          "metadata": {
            "tags": []
          },
          "execution_count": 11
        }
      ]
    },
    {
      "cell_type": "code",
      "metadata": {
        "id": "8WQJJ_MJ2Qqo",
        "colab_type": "code",
        "colab": {}
      },
      "source": [
        "from keras_preprocessing.image import ImageDataGenerator"
      ],
      "execution_count": 0,
      "outputs": []
    },
    {
      "cell_type": "code",
      "metadata": {
        "id": "yYF0z_E92iUi",
        "colab_type": "code",
        "colab": {}
      },
      "source": [
        "datagen=ImageDataGenerator(rescale=1./255.,validation_split=0.25)"
      ],
      "execution_count": 0,
      "outputs": []
    },
    {
      "cell_type": "code",
      "metadata": {
        "id": "UROGTLfy3Zhn",
        "colab_type": "code",
        "colab": {
          "base_uri": "https://localhost:8080/",
          "height": 87
        },
        "outputId": "6f3d96ab-51c0-4bc2-f666-418ad0c12369"
      },
      "source": [
        "train_generator=datagen.flow_from_dataframe(\n",
        "    dataframe=traindf,\n",
        "    directory=\".\",\n",
        "    x_col=\"ID\",\n",
        "    y_col=\"species\",\n",
        "    subset=\"training\",\n",
        "    batch_size=15,\n",
        "    seed=42,\n",
        "    shuffle=True,\n",
        "    class_mode=\"categorical\",\n",
        "    # target_size=(8,8))\n",
        "    target_size=(64,64))\n",
        "    #target_size=(128,128))"
      ],
      "execution_count": 14,
      "outputs": [
        {
          "output_type": "stream",
          "text": [
            "Found 26 validated image filenames belonging to 34 classes.\n"
          ],
          "name": "stdout"
        },
        {
          "output_type": "stream",
          "text": [
            "/usr/local/lib/python3.6/dist-packages/keras_preprocessing/image/dataframe_iterator.py:273: UserWarning: Found 1 invalid image filename(s) in x_col=\"ID\". These filename(s) will be ignored.\n",
            "  .format(n_invalid, x_col)\n"
          ],
          "name": "stderr"
        }
      ]
    },
    {
      "cell_type": "code",
      "metadata": {
        "id": "SQEXkDaA3lrK",
        "colab_type": "code",
        "colab": {
          "base_uri": "https://localhost:8080/",
          "height": 87
        },
        "outputId": "5711004c-bdf3-4400-eb70-367591b05455"
      },
      "source": [
        "valid_generator=datagen.flow_from_dataframe(\n",
        "    dataframe=traindf,\n",
        "    directory=\".\",\n",
        "    x_col=\"ID\",\n",
        "    y_col=\"species\",\n",
        "    subset=\"validation\",\n",
        "    batch_size=30,\n",
        "    seed=42,\n",
        "    shuffle=True,\n",
        "    class_mode=\"categorical\",\n",
        "    target_size=(64,64))"
      ],
      "execution_count": 16,
      "outputs": [
        {
          "output_type": "stream",
          "text": [
            "Found 8 validated image filenames belonging to 34 classes.\n"
          ],
          "name": "stdout"
        },
        {
          "output_type": "stream",
          "text": [
            "/usr/local/lib/python3.6/dist-packages/keras_preprocessing/image/dataframe_iterator.py:273: UserWarning: Found 1 invalid image filename(s) in x_col=\"ID\". These filename(s) will be ignored.\n",
            "  .format(n_invalid, x_col)\n"
          ],
          "name": "stderr"
        }
      ]
    },
    {
      "cell_type": "code",
      "metadata": {
        "id": "flDTVCHa3rzm",
        "colab_type": "code",
        "colab": {
          "base_uri": "https://localhost:8080/",
          "height": 96
        },
        "outputId": "977a11a9-341a-4a84-8c0d-1dd237fe6723"
      },
      "source": [
        "import keras\n",
        "from keras.layers import Dense, Activation, Flatten, Dropout, BatchNormalization\n",
        "from keras.models import Sequential, Model\n",
        "from keras.layers import Conv2D, MaxPooling2D\n",
        "from keras import regularizers, optimizers\n",
        "import pandas as pd\n",
        "import numpy as np"
      ],
      "execution_count": 17,
      "outputs": [
        {
          "output_type": "stream",
          "text": [
            "Using TensorFlow backend.\n"
          ],
          "name": "stderr"
        },
        {
          "output_type": "display_data",
          "data": {
            "text/html": [
              "<p style=\"color: red;\">\n",
              "The default version of TensorFlow in Colab will soon switch to TensorFlow 2.x.<br>\n",
              "We recommend you <a href=\"https://www.tensorflow.org/guide/migrate\" target=\"_blank\">upgrade</a> now \n",
              "or ensure your notebook will continue to use TensorFlow 1.x via the <code>%tensorflow_version 1.x</code> magic:\n",
              "<a href=\"https://colab.research.google.com/notebooks/tensorflow_version.ipynb\" target=\"_blank\">more info</a>.</p>\n"
            ],
            "text/plain": [
              "<IPython.core.display.HTML object>"
            ]
          },
          "metadata": {
            "tags": []
          }
        }
      ]
    },
    {
      "cell_type": "code",
      "metadata": {
        "id": "scv2J1Sq345p",
        "colab_type": "code",
        "colab": {
          "base_uri": "https://localhost:8080/",
          "height": 924
        },
        "outputId": "5ff0b1c7-f786-4f2e-937d-dcd77d459656"
      },
      "source": [
        "model = Sequential()\n",
        "#model.add(Conv2D(32, (3, 3), padding='same',\n",
        "#                 input_shape=(64,64,3)))\n",
        "model.add(Conv2D(32, (3, 3), padding='same',\n",
        "                 input_shape=(64,64,3)))\n",
        "model.add(Activation('relu'))\n",
        "model.add(Conv2D(64, (3, 3)))\n",
        "model.add(Activation('relu'))\n",
        "model.add(MaxPooling2D(pool_size=(2, 2)))\n",
        "model.add(Dropout(0.25))\n",
        "model.add(Conv2D(64, (3, 3), padding='same'))\n",
        "model.add(Activation('relu'))\n",
        "model.add(Conv2D(64, (3, 3)))\n",
        "model.add(Activation('relu'))\n",
        "model.add(MaxPooling2D(pool_size=(2, 2)))\n",
        "model.add(Dropout(0.5))\n",
        "model.add(Conv2D(128, (3, 3), padding='same'))\n",
        "model.add(Activation('relu'))\n",
        "model.add(Conv2D(128, (3, 3)))\n",
        "model.add(Activation('relu'))\n",
        "model.add(MaxPooling2D(pool_size=(2, 2)))\n",
        "model.add(Dropout(0.5))\n",
        "model.add(Flatten())\n",
        "model.add(Dense(512))\n",
        "model.add(Activation('relu'))\n",
        "model.add(Dropout(0.5))\n",
        "#model.add(Dense(10, activation='softmax'))\n",
        "model.add(Dense(34, activation='softmax'))\n",
        "#model.compile(optimizers.Adam(lr=0.001, decay=2e-5),loss=\"categorical_crossentropy\",metrics=[\"accuracy\"])\n",
        "# The SGD optimizer worked so poorly, val scores mostly just increased through the epochs.\n",
        "#model.compile(optimizers.SGD(lr=0.1, decay=0),loss=\"categorical_crossentropy\",metrics=[\"accuracy\"])\n",
        "model.compile(optimizers.RMSprop(lr=0.0003, decay=1e-5),loss=\"categorical_crossentropy\",metrics=[\"accuracy\"])\n",
        "#original\n",
        "#model.compile(optimizers.RMSprop(lr=0.0005, decay=1e-6),loss=\"categorical_crossentropy\",metrics=[\"accuracy\"])\n",
        "model.summary()"
      ],
      "execution_count": 20,
      "outputs": [
        {
          "output_type": "stream",
          "text": [
            "Model: \"sequential_2\"\n",
            "_________________________________________________________________\n",
            "Layer (type)                 Output Shape              Param #   \n",
            "=================================================================\n",
            "conv2d_7 (Conv2D)            (None, 64, 64, 32)        896       \n",
            "_________________________________________________________________\n",
            "activation_8 (Activation)    (None, 64, 64, 32)        0         \n",
            "_________________________________________________________________\n",
            "conv2d_8 (Conv2D)            (None, 62, 62, 64)        18496     \n",
            "_________________________________________________________________\n",
            "activation_9 (Activation)    (None, 62, 62, 64)        0         \n",
            "_________________________________________________________________\n",
            "max_pooling2d_4 (MaxPooling2 (None, 31, 31, 64)        0         \n",
            "_________________________________________________________________\n",
            "dropout_5 (Dropout)          (None, 31, 31, 64)        0         \n",
            "_________________________________________________________________\n",
            "conv2d_9 (Conv2D)            (None, 31, 31, 64)        36928     \n",
            "_________________________________________________________________\n",
            "activation_10 (Activation)   (None, 31, 31, 64)        0         \n",
            "_________________________________________________________________\n",
            "conv2d_10 (Conv2D)           (None, 29, 29, 64)        36928     \n",
            "_________________________________________________________________\n",
            "activation_11 (Activation)   (None, 29, 29, 64)        0         \n",
            "_________________________________________________________________\n",
            "max_pooling2d_5 (MaxPooling2 (None, 14, 14, 64)        0         \n",
            "_________________________________________________________________\n",
            "dropout_6 (Dropout)          (None, 14, 14, 64)        0         \n",
            "_________________________________________________________________\n",
            "conv2d_11 (Conv2D)           (None, 14, 14, 128)       73856     \n",
            "_________________________________________________________________\n",
            "activation_12 (Activation)   (None, 14, 14, 128)       0         \n",
            "_________________________________________________________________\n",
            "conv2d_12 (Conv2D)           (None, 12, 12, 128)       147584    \n",
            "_________________________________________________________________\n",
            "activation_13 (Activation)   (None, 12, 12, 128)       0         \n",
            "_________________________________________________________________\n",
            "max_pooling2d_6 (MaxPooling2 (None, 6, 6, 128)         0         \n",
            "_________________________________________________________________\n",
            "dropout_7 (Dropout)          (None, 6, 6, 128)         0         \n",
            "_________________________________________________________________\n",
            "flatten_2 (Flatten)          (None, 4608)              0         \n",
            "_________________________________________________________________\n",
            "dense_3 (Dense)              (None, 512)               2359808   \n",
            "_________________________________________________________________\n",
            "activation_14 (Activation)   (None, 512)               0         \n",
            "_________________________________________________________________\n",
            "dropout_8 (Dropout)          (None, 512)               0         \n",
            "_________________________________________________________________\n",
            "dense_4 (Dense)              (None, 34)                17442     \n",
            "=================================================================\n",
            "Total params: 2,691,938\n",
            "Trainable params: 2,691,938\n",
            "Non-trainable params: 0\n",
            "_________________________________________________________________\n"
          ],
          "name": "stdout"
        }
      ]
    },
    {
      "cell_type": "code",
      "metadata": {
        "id": "d9AT0nFy4Axl",
        "colab_type": "code",
        "colab": {
          "base_uri": "https://localhost:8080/",
          "height": 433
        },
        "outputId": "da0b23fb-70d3-403e-8bb8-23e9b93f72b8"
      },
      "source": [
        "#Fitting keras model, no test gen for now\n",
        "#STEP_SIZE_TRAIN=train_generator.n//train_generator.batch_size\n",
        "#STEP_SIZE_VALID=valid_generator.n//valid_generator.batch_size\n",
        "#print(\"Step size as calculated: \", STEP_SIZE_TRAIN)\n",
        "STEP_SIZE_TRAIN=10\n",
        "STEP_SIZE_VALID=10\n",
        "#STEP_SIZE_TEST=test_generator.n//test_generator.batch_size\n",
        "history = model.fit_generator(generator=train_generator,\n",
        "                    steps_per_epoch=STEP_SIZE_TRAIN,\n",
        "                    validation_data=valid_generator,\n",
        "                    validation_steps=STEP_SIZE_VALID,\n",
        "                    epochs=3\n",
        ")\n",
        "import matplotlib.pyplot as plt\n",
        "plt.plot(history.history['acc'])\n",
        "plt.plot(history.history['val_acc'])\n",
        "plt.title('Model accuracy')\n",
        "plt.ylabel('Accuracy')\n",
        "plt.xlabel('Epoch')\n",
        "plt.legend(['Train', 'Test'], loc='upper left')\n",
        "plt.show()\n",
        "model.evaluate_generator(generator=valid_generator, steps=STEP_SIZE_VALID\n",
        ")"
      ],
      "execution_count": 22,
      "outputs": [
        {
          "output_type": "stream",
          "text": [
            "Epoch 1/3\n",
            "10/10 [==============================] - 6s 552ms/step - loss: 0.4611 - acc: 0.9550 - val_loss: 16.1181 - val_acc: 0.0000e+00\n",
            "Epoch 2/3\n",
            "10/10 [==============================] - 6s 556ms/step - loss: 0.8830 - acc: 0.9146 - val_loss: 16.1181 - val_acc: 0.0000e+00\n",
            "Epoch 3/3\n",
            "10/10 [==============================] - 5s 546ms/step - loss: 0.7347 - acc: 0.9393 - val_loss: 16.1181 - val_acc: 0.0000e+00\n"
          ],
          "name": "stdout"
        },
        {
          "output_type": "display_data",
          "data": {
            "image/png": "[encoded data removed]",
            "text/plain": [
              "<Figure size 432x288 with 1 Axes>"
            ]
          },
          "metadata": {
            "tags": []
          }
        },
        {
          "output_type": "execute_result",
          "data": {
            "text/plain": [
              "[16.11809539794922, 0.0]"
            ]
          },
          "metadata": {
            "tags": []
          },
          "execution_count": 22
        }
      ]
    },
    {
      "cell_type": "code",
      "metadata": {
        "id": "e1oWk5-B4ImZ",
        "colab_type": "code",
        "colab": {}
      },
      "source": [
        ""
      ],
      "execution_count": 0,
      "outputs": []
    }
  ]
}