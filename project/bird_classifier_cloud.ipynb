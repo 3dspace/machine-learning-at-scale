{
  "nbformat": 4,
  "nbformat_minor": 0,
  "metadata": {
    "colab": {
      "name": "bird-classifier-cloud.ipynb",
      "provenance": [],
      "toc_visible": true
    },
    "kernelspec": {
      "name": "python3",
      "display_name": "Python 3"
    },
    "accelerator": "GPU"
  },
  "cells": [
    {
      "cell_type": "markdown",
      "metadata": {
        "id": "uqU2aYNw-Kuf",
        "colab_type": "text"
      },
      "source": [
        "# Training my Bird Call Classifier in the cloud\n",
        "\n",
        "### Many things are different - directory structure, tensorflow imports, calls to functions that draw graphs."
      ]
    },
    {
      "cell_type": "code",
      "metadata": {
        "id": "SAxzKNXgzqsq",
        "colab_type": "code",
        "colab": {}
      },
      "source": [
        "import pandas as pd"
      ],
      "execution_count": 0,
      "outputs": []
    },
    {
      "cell_type": "code",
      "metadata": {
        "id": "wtGvZR1u25LQ",
        "colab_type": "code",
        "colab": {}
      },
      "source": [
        "def append_ext(fn):\n",
        "    fn2=fn.split('.')[0]\n",
        "    return fn2+\".jpg\"\n",
        "\n",
        "def append_ext2(fn):\n",
        "    fn2=fn.split('.')[0]\n",
        "    return fn2+\"2.jpg\"\n",
        "\n",
        "def append_ext3(fn):\n",
        "    fn2=fn.split('.')[0]\n",
        "    return fn2+\"3.jpg\"\n",
        "\n",
        "def append_ext4(fn):\n",
        "    fn2=fn.split('.')[0]\n",
        "    return fn2+\"4.jpg\"\n",
        "\n",
        "def append_ext5(fn):\n",
        "    fn2=fn.split('.')[0]\n",
        "    return fn2+\"5.jpg\"\n",
        "\n",
        "def append_ext6(fn):\n",
        "    fn2=fn.split('.')[0]\n",
        "    return fn2+\"6.jpg\"\n",
        "\n",
        "def append_ext7(fn):\n",
        "    fn2=fn.split('.')[0]\n",
        "    return fn2+\"7.jpg\"\n",
        "\n",
        "def append_ext8(fn):\n",
        "    fn2=fn.split('.')[0]\n",
        "    return fn2+\"8.jpg\"\n",
        "\n",
        "def append_ext9(fn):\n",
        "    fn2=fn.split('.')[0]\n",
        "    return fn2+\"9.jpg\"\n",
        "\n",
        "def append_ext10(fn):\n",
        "    fn2=fn.split('.')[0]\n",
        "    return fn2+\"10.jpg\""
      ],
      "execution_count": 0,
      "outputs": []
    },
    {
      "cell_type": "code",
      "metadata": {
        "id": "2YpD6fEn1fJ-",
        "colab_type": "code",
        "colab": {
          "base_uri": "https://localhost:8080/",
          "height": 34
        },
        "outputId": "d00a5271-d04e-409d-9aa7-a56dbbb4cf68"
      },
      "source": [
        "num_species = 35\n",
        "traindf=pd.read_csv('species_numbers.csv',dtype=str)\n",
        "traindf2=pd.read_csv('species_numbers.csv',dtype=str)\n",
        "traindf3=pd.read_csv('species_numbers.csv',dtype=str)\n",
        "traindf4=pd.read_csv('species_numbers.csv',dtype=str)\n",
        "traindf5=pd.read_csv('species_numbers.csv',dtype=str)\n",
        "traindf6=pd.read_csv('species_numbers.csv',dtype=str)\n",
        "traindf7=pd.read_csv('species_numbers.csv',dtype=str)\n",
        "traindf8=pd.read_csv('species_numbers.csv',dtype=str)\n",
        "traindf9=pd.read_csv('species_numbers.csv',dtype=str)\n",
        "traindf10=pd.read_csv('species_numbers.csv',dtype=str)\n",
        "\n",
        "traindf=traindf[0:num_species]\n",
        "traindf2=traindf2[0:num_species]\n",
        "traindf3=traindf3[0:num_species]\n",
        "traindf4=traindf4[0:num_species]\n",
        "traindf5=traindf5[0:num_species]\n",
        "traindf6=traindf6[0:num_species]\n",
        "traindf7=traindf7[0:num_species]\n",
        "traindf8=traindf8[0:num_species]\n",
        "traindf9=traindf9[0:num_species]\n",
        "traindf10=traindf10[0:num_species]\n",
        "\n",
        "traindf[\"ID\"]=''\n",
        "traindf2[\"ID\"]=''\n",
        "traindf3[\"ID\"]=''\n",
        "traindf4[\"ID\"]=''\n",
        "traindf5[\"ID\"]=''\n",
        "traindf6[\"ID\"]=''\n",
        "traindf7[\"ID\"]=''\n",
        "traindf8[\"ID\"]=''\n",
        "traindf9[\"ID\"]=''\n",
        "traindf10[\"ID\"]=''\n",
        "# file.split('.')[0]\n",
        "# temp_name=traindf[\"training_sample\"].split('.')[0]\n",
        "traindf[\"ID\"]=traindf[\"training_sample\"].apply(append_ext)\n",
        "traindf2[\"ID\"]=traindf[\"training_sample\"].apply(append_ext2)\n",
        "traindf3[\"ID\"]=traindf[\"training_sample\"].apply(append_ext3)\n",
        "traindf4[\"ID\"]=traindf[\"training_sample\"].apply(append_ext4)\n",
        "traindf5[\"ID\"]=traindf[\"training_sample\"].apply(append_ext5)\n",
        "traindf6[\"ID\"]=traindf[\"training_sample\"].apply(append_ext6)\n",
        "traindf7[\"ID\"]=traindf[\"training_sample\"].apply(append_ext7)\n",
        "traindf8[\"ID\"]=traindf[\"training_sample\"].apply(append_ext8)\n",
        "traindf9[\"ID\"]=traindf[\"training_sample\"].apply(append_ext9)\n",
        "traindf10[\"ID\"]=traindf[\"training_sample\"].apply(append_ext10)\n",
        "traindf = traindf.append(traindf2)\n",
        "traindf = traindf.append(traindf3)\n",
        "traindf = traindf.append(traindf4)\n",
        "traindf = traindf.append(traindf5)\n",
        "traindf = traindf.append(traindf6)\n",
        "traindf = traindf.append(traindf7)\n",
        "traindf = traindf.append(traindf8)\n",
        "traindf = traindf.append(traindf9)\n",
        "traindf = traindf.append(traindf10)\n",
        "#traindf = traindf.append(traindf3)\n",
        "#traindf = traindf.append(traindf7)\n",
        "traindf.columns"
      ],
      "execution_count": 137,
      "outputs": [
        {
          "output_type": "execute_result",
          "data": {
            "text/plain": [
              "Index(['species', 'training_sample', 'ID'], dtype='object')"
            ]
          },
          "metadata": {
            "tags": []
          },
          "execution_count": 137
        }
      ]
    },
    {
      "cell_type": "code",
      "metadata": {
        "id": "pIBazoDH1vmh",
        "colab_type": "code",
        "colab": {
          "base_uri": "https://localhost:8080/",
          "height": 402
        },
        "outputId": "62dedb88-2db7-4b6a-ae84-e145c1cd692d"
      },
      "source": [
        "traindf"
      ],
      "execution_count": 138,
      "outputs": [
        {
          "output_type": "execute_result",
          "data": {
            "text/html": [
              "<div>\n",
              "<style scoped>\n",
              "    .dataframe tbody tr th:only-of-type {\n",
              "        vertical-align: middle;\n",
              "    }\n",
              "\n",
              "    .dataframe tbody tr th {\n",
              "        vertical-align: top;\n",
              "    }\n",
              "\n",
              "    .dataframe thead th {\n",
              "        text-align: right;\n",
              "    }\n",
              "</style>\n",
              "<table border=\"1\" class=\"dataframe\">\n",
              "  <thead>\n",
              "    <tr style=\"text-align: right;\">\n",
              "      <th></th>\n",
              "      <th>species</th>\n",
              "      <th>training_sample</th>\n",
              "      <th>ID</th>\n",
              "    </tr>\n",
              "  </thead>\n",
              "  <tbody>\n",
              "    <tr>\n",
              "      <th>0</th>\n",
              "      <td>1</td>\n",
              "      <td>train_aegithalos_caudatus.wav</td>\n",
              "      <td>train_aegithalos_caudatus.jpg</td>\n",
              "    </tr>\n",
              "    <tr>\n",
              "      <th>1</th>\n",
              "      <td>2</td>\n",
              "      <td>train_alauda_arvensis.wav</td>\n",
              "      <td>train_alauda_arvensis.jpg</td>\n",
              "    </tr>\n",
              "    <tr>\n",
              "      <th>2</th>\n",
              "      <td>3</td>\n",
              "      <td>train_anthus_trivialis.wav</td>\n",
              "      <td>train_anthus_trivialis.jpg</td>\n",
              "    </tr>\n",
              "    <tr>\n",
              "      <th>3</th>\n",
              "      <td>4</td>\n",
              "      <td>train_branta_canadensis.wav</td>\n",
              "      <td>train_branta_canadensis.jpg</td>\n",
              "    </tr>\n",
              "    <tr>\n",
              "      <th>4</th>\n",
              "      <td>5</td>\n",
              "      <td>train_carduelis_chloris.wav</td>\n",
              "      <td>train_carduelis_chloris.jpg</td>\n",
              "    </tr>\n",
              "    <tr>\n",
              "      <th>...</th>\n",
              "      <td>...</td>\n",
              "      <td>...</td>\n",
              "      <td>...</td>\n",
              "    </tr>\n",
              "    <tr>\n",
              "      <th>30</th>\n",
              "      <td>31</td>\n",
              "      <td>train_sylvia_atricapilla.wav</td>\n",
              "      <td>train_sylvia_atricapilla10.jpg</td>\n",
              "    </tr>\n",
              "    <tr>\n",
              "      <th>31</th>\n",
              "      <td>32</td>\n",
              "      <td>train_troglodytes_troglodytes.wav</td>\n",
              "      <td>train_troglodytes_troglodytes10.jpg</td>\n",
              "    </tr>\n",
              "    <tr>\n",
              "      <th>32</th>\n",
              "      <td>33</td>\n",
              "      <td>train_turdus_merula.wav</td>\n",
              "      <td>train_turdus_merula10.jpg</td>\n",
              "    </tr>\n",
              "    <tr>\n",
              "      <th>33</th>\n",
              "      <td>34</td>\n",
              "      <td>train_turdus_philomelos.wav</td>\n",
              "      <td>train_turdus_philomelos10.jpg</td>\n",
              "    </tr>\n",
              "    <tr>\n",
              "      <th>34</th>\n",
              "      <td>35</td>\n",
              "      <td>train_turdus_viscivorus.wav</td>\n",
              "      <td>train_turdus_viscivorus10.jpg</td>\n",
              "    </tr>\n",
              "  </tbody>\n",
              "</table>\n",
              "<p>350 rows × 3 columns</p>\n",
              "</div>"
            ],
            "text/plain": [
              "   species  ...                                   ID\n",
              "0        1  ...        train_aegithalos_caudatus.jpg\n",
              "1        2  ...            train_alauda_arvensis.jpg\n",
              "2        3  ...           train_anthus_trivialis.jpg\n",
              "3        4  ...          train_branta_canadensis.jpg\n",
              "4        5  ...          train_carduelis_chloris.jpg\n",
              "..     ...  ...                                  ...\n",
              "30      31  ...       train_sylvia_atricapilla10.jpg\n",
              "31      32  ...  train_troglodytes_troglodytes10.jpg\n",
              "32      33  ...            train_turdus_merula10.jpg\n",
              "33      34  ...        train_turdus_philomelos10.jpg\n",
              "34      35  ...        train_turdus_viscivorus10.jpg\n",
              "\n",
              "[350 rows x 3 columns]"
            ]
          },
          "metadata": {
            "tags": []
          },
          "execution_count": 138
        }
      ]
    },
    {
      "cell_type": "code",
      "metadata": {
        "id": "8WQJJ_MJ2Qqo",
        "colab_type": "code",
        "colab": {}
      },
      "source": [
        "from keras_preprocessing.image import ImageDataGenerator"
      ],
      "execution_count": 0,
      "outputs": []
    },
    {
      "cell_type": "code",
      "metadata": {
        "id": "yYF0z_E92iUi",
        "colab_type": "code",
        "colab": {}
      },
      "source": [
        "datagen=ImageDataGenerator(rescale=1./255.,validation_split=0.33)"
      ],
      "execution_count": 0,
      "outputs": []
    },
    {
      "cell_type": "code",
      "metadata": {
        "id": "UROGTLfy3Zhn",
        "colab_type": "code",
        "colab": {
          "base_uri": "https://localhost:8080/",
          "height": 87
        },
        "outputId": "b6b64f28-b721-43aa-98e8-267109cf203b"
      },
      "source": [
        "train_generator=datagen.flow_from_dataframe(\n",
        "    dataframe=traindf,\n",
        "    directory=\".\",\n",
        "    x_col=\"ID\",\n",
        "    y_col=\"species\",\n",
        "    subset=\"training\",\n",
        "    batch_size=30,\n",
        "    seed=42,\n",
        "    shuffle=True,\n",
        "    class_mode=\"categorical\",\n",
        "    # target_size=(8,8))\n",
        "    target_size=(64,64))\n",
        "    #target_size=(128,128))"
      ],
      "execution_count": 141,
      "outputs": [
        {
          "output_type": "stream",
          "text": [
            "Found 228 validated image filenames belonging to 34 classes.\n"
          ],
          "name": "stdout"
        },
        {
          "output_type": "stream",
          "text": [
            "/usr/local/lib/python3.6/dist-packages/keras_preprocessing/image/dataframe_iterator.py:273: UserWarning: Found 10 invalid image filename(s) in x_col=\"ID\". These filename(s) will be ignored.\n",
            "  .format(n_invalid, x_col)\n"
          ],
          "name": "stderr"
        }
      ]
    },
    {
      "cell_type": "code",
      "metadata": {
        "id": "SQEXkDaA3lrK",
        "colab_type": "code",
        "colab": {
          "base_uri": "https://localhost:8080/",
          "height": 87
        },
        "outputId": "992c4e59-5372-47a8-f6b0-c40879b83f45"
      },
      "source": [
        "valid_generator=datagen.flow_from_dataframe(\n",
        "    dataframe=traindf,\n",
        "    directory=\".\",\n",
        "    x_col=\"ID\",\n",
        "    y_col=\"species\",\n",
        "    subset=\"validation\",\n",
        "    batch_size=30,\n",
        "    seed=42,\n",
        "    shuffle=True,\n",
        "    class_mode=\"categorical\",\n",
        "    target_size=(64,64))"
      ],
      "execution_count": 142,
      "outputs": [
        {
          "output_type": "stream",
          "text": [
            "Found 112 validated image filenames belonging to 34 classes.\n"
          ],
          "name": "stdout"
        },
        {
          "output_type": "stream",
          "text": [
            "/usr/local/lib/python3.6/dist-packages/keras_preprocessing/image/dataframe_iterator.py:273: UserWarning: Found 10 invalid image filename(s) in x_col=\"ID\". These filename(s) will be ignored.\n",
            "  .format(n_invalid, x_col)\n"
          ],
          "name": "stderr"
        }
      ]
    },
    {
      "cell_type": "code",
      "metadata": {
        "id": "flDTVCHa3rzm",
        "colab_type": "code",
        "colab": {}
      },
      "source": [
        "import keras\n",
        "from keras.layers import Dense, Activation, Flatten, Dropout, BatchNormalization\n",
        "from keras.models import Sequential, Model\n",
        "from keras.layers import Conv2D, MaxPooling2D\n",
        "from keras import regularizers, optimizers\n",
        "import pandas as pd\n",
        "import numpy as np"
      ],
      "execution_count": 0,
      "outputs": []
    },
    {
      "cell_type": "code",
      "metadata": {
        "id": "scv2J1Sq345p",
        "colab_type": "code",
        "colab": {
          "base_uri": "https://localhost:8080/",
          "height": 924
        },
        "outputId": "1ac70eaf-e90d-4185-b8e7-410a0042ec6e"
      },
      "source": [
        "model = Sequential()\n",
        "#model.add(Conv2D(32, (3, 3), padding='same',\n",
        "#                 input_shape=(64,64,3)))\n",
        "model.add(Conv2D(32, (3, 3), padding='same',\n",
        "                 input_shape=(64,64,3)))\n",
        "model.add(Activation('relu'))\n",
        "model.add(Conv2D(64, (3, 3)))\n",
        "model.add(Activation('relu'))\n",
        "model.add(MaxPooling2D(pool_size=(2, 2)))\n",
        "model.add(Dropout(0.25))\n",
        "model.add(Conv2D(64, (3, 3), padding='same'))\n",
        "model.add(Activation('relu'))\n",
        "model.add(Conv2D(64, (3, 3)))\n",
        "model.add(Activation('relu'))\n",
        "model.add(MaxPooling2D(pool_size=(2, 2)))\n",
        "model.add(Dropout(0.5))\n",
        "model.add(Conv2D(128, (3, 3), padding='same'))\n",
        "model.add(Activation('relu'))\n",
        "model.add(Conv2D(128, (3, 3)))\n",
        "model.add(Activation('relu'))\n",
        "model.add(MaxPooling2D(pool_size=(2, 2)))\n",
        "model.add(Dropout(0.5))\n",
        "model.add(Flatten())\n",
        "model.add(Dense(512))\n",
        "model.add(Activation('relu'))\n",
        "model.add(Dropout(0.5))\n",
        "#model.add(Dense(10, activation='softmax'))\n",
        "model.add(Dense(num_species-1, activation='softmax'))\n",
        "#model.compile(optimizers.Adam(lr=0.001, decay=2e-5),loss=\"categorical_crossentropy\",metrics=[\"accuracy\"])\n",
        "# The SGD optimizer worked so poorly, val scores mostly just increased through the epochs.\n",
        "#model.compile(optimizers.SGD(lr=0.1, decay=0),loss=\"categorical_crossentropy\",metrics=[\"accuracy\"])\n",
        "model.compile(optimizers.RMSprop(lr=0.0006, decay=1e-6),loss=\"categorical_crossentropy\",metrics=[\"accuracy\"])\n",
        "#original\n",
        "#model.compile(optimizers.RMSprop(lr=0.0005, decay=1e-6),loss=\"categorical_crossentropy\",metrics=[\"accuracy\"])\n",
        "model.summary()"
      ],
      "execution_count": 149,
      "outputs": [
        {
          "output_type": "stream",
          "text": [
            "Model: \"sequential_23\"\n",
            "_________________________________________________________________\n",
            "Layer (type)                 Output Shape              Param #   \n",
            "=================================================================\n",
            "conv2d_133 (Conv2D)          (None, 64, 64, 32)        896       \n",
            "_________________________________________________________________\n",
            "activation_155 (Activation)  (None, 64, 64, 32)        0         \n",
            "_________________________________________________________________\n",
            "conv2d_134 (Conv2D)          (None, 62, 62, 64)        18496     \n",
            "_________________________________________________________________\n",
            "activation_156 (Activation)  (None, 62, 62, 64)        0         \n",
            "_________________________________________________________________\n",
            "max_pooling2d_67 (MaxPooling (None, 31, 31, 64)        0         \n",
            "_________________________________________________________________\n",
            "dropout_89 (Dropout)         (None, 31, 31, 64)        0         \n",
            "_________________________________________________________________\n",
            "conv2d_135 (Conv2D)          (None, 31, 31, 64)        36928     \n",
            "_________________________________________________________________\n",
            "activation_157 (Activation)  (None, 31, 31, 64)        0         \n",
            "_________________________________________________________________\n",
            "conv2d_136 (Conv2D)          (None, 29, 29, 64)        36928     \n",
            "_________________________________________________________________\n",
            "activation_158 (Activation)  (None, 29, 29, 64)        0         \n",
            "_________________________________________________________________\n",
            "max_pooling2d_68 (MaxPooling (None, 14, 14, 64)        0         \n",
            "_________________________________________________________________\n",
            "dropout_90 (Dropout)         (None, 14, 14, 64)        0         \n",
            "_________________________________________________________________\n",
            "conv2d_137 (Conv2D)          (None, 14, 14, 128)       73856     \n",
            "_________________________________________________________________\n",
            "activation_159 (Activation)  (None, 14, 14, 128)       0         \n",
            "_________________________________________________________________\n",
            "conv2d_138 (Conv2D)          (None, 12, 12, 128)       147584    \n",
            "_________________________________________________________________\n",
            "activation_160 (Activation)  (None, 12, 12, 128)       0         \n",
            "_________________________________________________________________\n",
            "max_pooling2d_69 (MaxPooling (None, 6, 6, 128)         0         \n",
            "_________________________________________________________________\n",
            "dropout_91 (Dropout)         (None, 6, 6, 128)         0         \n",
            "_________________________________________________________________\n",
            "flatten_23 (Flatten)         (None, 4608)              0         \n",
            "_________________________________________________________________\n",
            "dense_45 (Dense)             (None, 512)               2359808   \n",
            "_________________________________________________________________\n",
            "activation_161 (Activation)  (None, 512)               0         \n",
            "_________________________________________________________________\n",
            "dropout_92 (Dropout)         (None, 512)               0         \n",
            "_________________________________________________________________\n",
            "dense_46 (Dense)             (None, 34)                17442     \n",
            "=================================================================\n",
            "Total params: 2,691,938\n",
            "Trainable params: 2,691,938\n",
            "Non-trainable params: 0\n",
            "_________________________________________________________________\n"
          ],
          "name": "stdout"
        }
      ]
    },
    {
      "cell_type": "code",
      "metadata": {
        "id": "d9AT0nFy4Axl",
        "colab_type": "code",
        "colab": {
          "base_uri": "https://localhost:8080/",
          "height": 984
        },
        "outputId": "db8b7cef-4201-45c4-f0e2-a10674b8ee69"
      },
      "source": [
        "#Fitting keras model, no test gen for now\n",
        "#STEP_SIZE_TRAIN=train_generator.n//train_generator.batch_size\n",
        "#STEP_SIZE_VALID=valid_generator.n//valid_generator.batch_size\n",
        "#print(\"Step size as calculated: \", STEP_SIZE_TRAIN)\n",
        "STEP_SIZE_TRAIN=60\n",
        "STEP_SIZE_VALID=60\n",
        "#STEP_SIZE_TEST=test_generator.n//test_generator.batch_size\n",
        "history = model.fit_generator(generator=train_generator,\n",
        "                    steps_per_epoch=STEP_SIZE_TRAIN,\n",
        "                    validation_data=valid_generator,\n",
        "                    validation_steps=STEP_SIZE_VALID,\n",
        "                    epochs=20\n",
        ")\n",
        "import matplotlib.pyplot as plt\n",
        "plt.plot(history.history['acc'])\n",
        "plt.plot(history.history['val_acc'])\n",
        "plt.title('Model accuracy')\n",
        "plt.ylabel('Accuracy')\n",
        "plt.xlabel('Epoch')\n",
        "plt.legend(['Train', 'Test'], loc='upper left')\n",
        "plt.show()\n",
        "model.evaluate_generator(generator=valid_generator, steps=STEP_SIZE_VALID\n",
        ")"
      ],
      "execution_count": 150,
      "outputs": [
        {
          "output_type": "stream",
          "text": [
            "Epoch 1/20\n",
            "60/60 [==============================] - 11s 179ms/step - loss: 3.1569 - acc: 0.1209 - val_loss: 2.4438 - val_acc: 0.2946\n",
            "Epoch 2/20\n",
            "60/60 [==============================] - 7s 112ms/step - loss: 1.7316 - acc: 0.4779 - val_loss: 1.3806 - val_acc: 0.5804\n",
            "Epoch 3/20\n",
            "60/60 [==============================] - 6s 107ms/step - loss: 0.7711 - acc: 0.7542 - val_loss: 0.9033 - val_acc: 0.7589\n",
            "Epoch 4/20\n",
            "60/60 [==============================] - 7s 110ms/step - loss: 0.3616 - acc: 0.8913 - val_loss: 0.7046 - val_acc: 0.8214\n",
            "Epoch 5/20\n",
            "60/60 [==============================] - 6s 106ms/step - loss: 0.1738 - acc: 0.9546 - val_loss: 0.5689 - val_acc: 0.8839\n",
            "Epoch 6/20\n",
            "60/60 [==============================] - 7s 109ms/step - loss: 0.1014 - acc: 0.9729 - val_loss: 0.9900 - val_acc: 0.8214\n",
            "Epoch 7/20\n",
            "60/60 [==============================] - 6s 107ms/step - loss: 0.0886 - acc: 0.9706 - val_loss: 0.7688 - val_acc: 0.8571\n",
            "Epoch 8/20\n",
            "60/60 [==============================] - 7s 109ms/step - loss: 0.0461 - acc: 0.9863 - val_loss: 0.7656 - val_acc: 0.8750\n",
            "Epoch 9/20\n",
            "60/60 [==============================] - 7s 109ms/step - loss: 0.0553 - acc: 0.9855 - val_loss: 0.6849 - val_acc: 0.8393\n",
            "Epoch 10/20\n",
            "60/60 [==============================] - 7s 110ms/step - loss: 0.0398 - acc: 0.9882 - val_loss: 0.7275 - val_acc: 0.8571\n",
            "Epoch 11/20\n",
            "60/60 [==============================] - 7s 109ms/step - loss: 0.0332 - acc: 0.9885 - val_loss: 0.7207 - val_acc: 0.8393\n",
            "Epoch 12/20\n",
            "60/60 [==============================] - 7s 110ms/step - loss: 0.0306 - acc: 0.9893 - val_loss: 0.6507 - val_acc: 0.8839\n",
            "Epoch 13/20\n",
            "60/60 [==============================] - 6s 107ms/step - loss: 0.0168 - acc: 0.9950 - val_loss: 1.2481 - val_acc: 0.8571\n",
            "Epoch 14/20\n",
            "60/60 [==============================] - 7s 109ms/step - loss: 0.0341 - acc: 0.9935 - val_loss: 0.7242 - val_acc: 0.8661\n",
            "Epoch 15/20\n",
            "60/60 [==============================] - 7s 109ms/step - loss: 0.0445 - acc: 0.9907 - val_loss: 0.6905 - val_acc: 0.8661\n",
            "Epoch 16/20\n",
            "60/60 [==============================] - 7s 112ms/step - loss: 0.0137 - acc: 0.9956 - val_loss: 1.1313 - val_acc: 0.8393\n",
            "Epoch 17/20\n",
            "60/60 [==============================] - 6s 105ms/step - loss: 0.0224 - acc: 0.9932 - val_loss: 0.6278 - val_acc: 0.9018\n",
            "Epoch 18/20\n",
            "60/60 [==============================] - 7s 109ms/step - loss: 0.0246 - acc: 0.9956 - val_loss: 0.6481 - val_acc: 0.8929\n",
            "Epoch 19/20\n",
            "60/60 [==============================] - 6s 106ms/step - loss: 0.0075 - acc: 0.9972 - val_loss: 1.0357 - val_acc: 0.8750\n",
            "Epoch 20/20\n",
            "60/60 [==============================] - 7s 111ms/step - loss: 0.0208 - acc: 0.9952 - val_loss: 0.8593 - val_acc: 0.8661\n"
          ],
          "name": "stdout"
        },
        {
          "output_type": "display_data",
          "data": {
            "image/png": "[encoded data removed]",
            "text/plain": [
              "<Figure size 432x288 with 1 Axes>"
            ]
          },
          "metadata": {
            "tags": []
          }
        },
        {
          "output_type": "execute_result",
          "data": {
            "text/plain": [
              "[0.8593098635918328, 0.8660714253073647]"
            ]
          },
          "metadata": {
            "tags": []
          },
          "execution_count": 150
        }
      ]
    },
    {
      "cell_type": "code",
      "metadata": {
        "id": "e1oWk5-B4ImZ",
        "colab_type": "code",
        "colab": {
          "base_uri": "https://localhost:8080/",
          "height": 1000
        },
        "outputId": "09b92fad-75cd-47a1-ca9c-0c946bfcd129"
      },
      "source": [
        "ls"
      ],
      "execution_count": 146,
      "outputs": [
        {
          "output_type": "stream",
          "text": [
            "\u001b[0m\u001b[01;34msample_data\u001b[0m/                       train_parus_caeruleus5.jpg\n",
            "species_numbers.csv                train_parus_caeruleus6.jpg\n",
            "train_aegithalos_caudatus10.jpg    train_parus_caeruleus7.jpg\n",
            "train_aegithalos_caudatus2.jpg     train_parus_caeruleus8.jpg\n",
            "train_aegithalos_caudatus3.jpg     train_parus_caeruleus9.jpg\n",
            "train_aegithalos_caudatus4.jpg     train_parus_caeruleus.jpg\n",
            "train_aegithalos_caudatus5.jpg     train_parus_major10.jpg\n",
            "train_aegithalos_caudatus6.jpg     train_parus_major2.jpg\n",
            "train_aegithalos_caudatus7.jpg     train_parus_major3.jpg\n",
            "train_aegithalos_caudatus8.jpg     train_parus_major4.jpg\n",
            "train_aegithalos_caudatus9.jpg     train_parus_major5.jpg\n",
            "train_aegithalos_caudatus.jpg      train_parus_major6.jpg\n",
            "train_alauda_arvensis10.jpg        train_parus_major7.jpg\n",
            "train_alauda_arvensis2.jpg         train_parus_major8.jpg\n",
            "train_alauda_arvensis3.jpg         train_parus_major9.jpg\n",
            "train_alauda_arvensis4.jpg         train_parus_major.jpg\n",
            "train_alauda_arvensis5.jpg         train_parus_palustris10.jpg\n",
            "train_alauda_arvensis6.jpg         train_parus_palustris2.jpg\n",
            "train_alauda_arvensis7.jpg         train_parus_palustris3.jpg\n",
            "train_alauda_arvensis8.jpg         train_parus_palustris4.jpg\n",
            "train_alauda_arvensis9.jpg         train_parus_palustris5.jpg\n",
            "train_alauda_arvensis.jpg          train_parus_palustris6.jpg\n",
            "train_anthus_trivialis10.jpg       train_parus_palustris7.jpg\n",
            "train_anthus_trivialis2.jpg        train_parus_palustris8.jpg\n",
            "train_anthus_trivialis3.jpg        train_parus_palustris9.jpg\n",
            "train_anthus_trivialis4.jpg        train_parus_palustris.jpg\n",
            "train_anthus_trivialis5.jpg        train_pavo_cristatus10.jpg\n",
            "train_anthus_trivialis6.jpg        train_pavo_cristatus2.jpg\n",
            "train_anthus_trivialis7.jpg        train_pavo_cristatus3.jpg\n",
            "train_anthus_trivialis8.jpg        train_pavo_cristatus4.jpg\n",
            "train_anthus_trivialis9.jpg        train_pavo_cristatus5.jpg\n",
            "train_anthus_trivialis.jpg         train_pavo_cristatus6.jpg\n",
            "train_branta_canadensis10.jpg      train_pavo_cristatus7.jpg\n",
            "train_branta_canadensis2.jpg       train_pavo_cristatus8.jpg\n",
            "train_branta_canadensis3.jpg       train_pavo_cristatus9.jpg\n",
            "train_branta_canadensis4.jpg       train_pavo_cristatus.jpg\n",
            "train_branta_canadensis5.jpg       train_phasianus_colchicus10.jpg\n",
            "train_branta_canadensis6.jpg       train_phasianus_colchicus2.jpg\n",
            "train_branta_canadensis7.jpg       train_phasianus_colchicus3.jpg\n",
            "train_branta_canadensis8.jpg       train_phasianus_colchicus4.jpg\n",
            "train_branta_canadensis9.jpg       train_phasianus_colchicus5.jpg\n",
            "train_branta_canadensis.jpg        train_phasianus_colchicus6.jpg\n",
            "train_carduelis_chloris10.jpg      train_phasianus_colchicus7.jpg\n",
            "train_carduelis_chloris2.jpg       train_phasianus_colchicus8.jpg\n",
            "train_carduelis_chloris3.jpg       train_phasianus_colchicus9.jpg\n",
            "train_carduelis_chloris4.jpg       train_phasianus_colchicus.jpg\n",
            "train_carduelis_chloris5.jpg       train_phoenicurus_phoenicurus10.jpg\n",
            "train_carduelis_chloris6.jpg       train_phoenicurus_phoenicurus2.jpg\n",
            "train_carduelis_chloris7.jpg       train_phoenicurus_phoenicurus3.jpg\n",
            "train_carduelis_chloris8.jpg       train_phoenicurus_phoenicurus4.jpg\n",
            "train_carduelis_chloris9.jpg       train_phoenicurus_phoenicurus5.jpg\n",
            "train_carduelis_chloris.jpg        train_phoenicurus_phoenicurus6.jpg\n",
            "train_certhia_brachydactyla10.jpg  train_phoenicurus_phoenicurus7.jpg\n",
            "train_certhia_brachydactyla2.jpg   train_phoenicurus_phoenicurus8.jpg\n",
            "train_certhia_brachydactyla3.jpg   train_phoenicurus_phoenicurus9.jpg\n",
            "train_certhia_brachydactyla4.jpg   train_phoenicurus_phoenicurus.jpg\n",
            "train_certhia_brachydactyla5.jpg   train_phylloscopus_collybita10.jpg\n",
            "train_certhia_brachydactyla6.jpg   train_phylloscopus_collybita2.jpg\n",
            "train_certhia_brachydactyla7.jpg   train_phylloscopus_collybita3.jpg\n",
            "train_certhia_brachydactyla8.jpg   train_phylloscopus_collybita4.jpg\n",
            "train_certhia_brachydactyla9.jpg   train_phylloscopus_collybita5.jpg\n",
            "train_certhia_brachydactyla.jpg    train_phylloscopus_collybita6.jpg\n",
            "train_columba_palumbus10.jpg       train_phylloscopus_collybita7.jpg\n",
            "train_columba_palumbus2.jpg        train_phylloscopus_collybita8.jpg\n",
            "train_columba_palumbus3.jpg        train_phylloscopus_collybita9.jpg\n",
            "train_columba_palumbus4.jpg        train_phylloscopus_collybita.jpg\n",
            "train_columba_palumbus5.jpg        train_picus_viridis10.jpg\n",
            "train_columba_palumbus6.jpg        train_picus_viridis2.jpg\n",
            "train_columba_palumbus7.jpg        train_picus_viridis3.jpg\n",
            "train_columba_palumbus8.jpg        train_picus_viridis4.jpg\n",
            "train_columba_palumbus9.jpg        train_picus_viridis5.jpg\n",
            "train_columba_palumbus.jpg         train_picus_viridis6.jpg\n",
            "train_corvus_corone10.jpg          train_picus_viridis7.jpg\n",
            "train_corvus_corone2.jpg           train_picus_viridis8.jpg\n",
            "train_corvus_corone3.jpg           train_picus_viridis9.jpg\n",
            "train_corvus_corone4.jpg           train_picus_viridis.jpg\n",
            "train_corvus_corone5.jpg           train_prunella_modularis10.jpg\n",
            "train_corvus_corone6.jpg           train_prunella_modularis2.jpg\n",
            "train_corvus_corone7.jpg           train_prunella_modularis3.jpg\n",
            "train_corvus_corone8.jpg           train_prunella_modularis4.jpg\n",
            "train_corvus_corone9.jpg           train_prunella_modularis5.jpg\n",
            "train_corvus_corone.jpg            train_prunella_modularis6.jpg\n",
            "train_cuculus_canorus10.jpg        train_prunella_modularis7.jpg\n",
            "train_cuculus_canorus2.jpg         train_prunella_modularis8.jpg\n",
            "train_cuculus_canorus3.jpg         train_prunella_modularis9.jpg\n",
            "train_cuculus_canorus4.jpg         train_prunella_modularis.jpg\n",
            "train_cuculus_canorus5.jpg         train_sitta_europaea10.jpg\n",
            "train_cuculus_canorus6.jpg         train_sitta_europaea2.jpg\n",
            "train_cuculus_canorus7.jpg         train_sitta_europaea3.jpg\n",
            "train_cuculus_canorus8.jpg         train_sitta_europaea4.jpg\n",
            "train_cuculus_canorus9.jpg         train_sitta_europaea5.jpg\n",
            "train_cuculus_canorus.jpg          train_sitta_europaea6.jpg\n",
            "train_dendrocopos_major10.jpg      train_sitta_europaea7.jpg\n",
            "train_dendrocopos_major2.jpg       train_sitta_europaea8.jpg\n",
            "train_dendrocopos_major3.jpg       train_sitta_europaea9.jpg\n",
            "train_dendrocopos_major4.jpg       train_sitta_europaea.jpg\n",
            "train_dendrocopos_major5.jpg       train_streptopelia_decaocto10.jpg\n",
            "train_dendrocopos_major6.jpg       train_streptopelia_decaocto2.jpg\n",
            "train_dendrocopos_major7.jpg       train_streptopelia_decaocto3.jpg\n",
            "train_dendrocopos_major8.jpg       train_streptopelia_decaocto4.jpg\n",
            "train_dendrocopos_major9.jpg       train_streptopelia_decaocto5.jpg\n",
            "train_dendrocopos_major.jpg        train_streptopelia_decaocto6.jpg\n",
            "train_emberiza_citrinella10.jpg    train_streptopelia_decaocto7.jpg\n",
            "train_emberiza_citrinella2.jpg     train_streptopelia_decaocto8.jpg\n",
            "train_emberiza_citrinella3.jpg     train_streptopelia_decaocto9.jpg\n",
            "train_emberiza_citrinella4.jpg     train_streptopelia_decaocto.jpg\n",
            "train_emberiza_citrinella5.jpg     train_strix_aluco10.jpg\n",
            "train_emberiza_citrinella6.jpg     train_strix_aluco2.jpg\n",
            "train_emberiza_citrinella7.jpg     train_strix_aluco3.jpg\n",
            "train_emberiza_citrinella8.jpg     train_strix_aluco4.jpg\n",
            "train_emberiza_citrinella9.jpg     train_strix_aluco5.jpg\n",
            "train_emberiza_citrinella.jpg      train_strix_aluco6.jpg\n",
            "train_erithacus_rubecula10.jpg     train_strix_aluco7.jpg\n",
            "train_erithacus_rubecula2.jpg      train_strix_aluco8.jpg\n",
            "train_erithacus_rubecula3.jpg      train_strix_aluco9.jpg\n",
            "train_erithacus_rubecula4.jpg      train_strix_aluco.jpg\n",
            "train_erithacus_rubecula5.jpg      train_sturnus_vulgaris10.jpg\n",
            "train_erithacus_rubecula6.jpg      train_sturnus_vulgaris2.jpg\n",
            "train_erithacus_rubecula7.jpg      train_sturnus_vulgaris3.jpg\n",
            "train_erithacus_rubecula8.jpg      train_sturnus_vulgaris4.jpg\n",
            "train_erithacus_rubecula9.jpg      train_sturnus_vulgaris5.jpg\n",
            "train_erithacus_rubecula.jpg       train_sturnus_vulgaris6.jpg\n",
            "train_fringilla_coelebs10.jpg      train_sturnus_vulgaris7.jpg\n",
            "train_fringilla_coelebs2.jpg       train_sturnus_vulgaris8.jpg\n",
            "train_fringilla_coelebs3.jpg       train_sturnus_vulgaris9.jpg\n",
            "train_fringilla_coelebs4.jpg       train_sturnus_vulgaris.jpg\n",
            "train_fringilla_coelebs5.jpg       train_sylvia_atricapilla10.jpg\n",
            "train_fringilla_coelebs6.jpg       train_sylvia_atricapilla2.jpg\n",
            "train_fringilla_coelebs7.jpg       train_sylvia_atricapilla3.jpg\n",
            "train_fringilla_coelebs8.jpg       train_sylvia_atricapilla4.jpg\n",
            "train_fringilla_coelebs9.jpg       train_sylvia_atricapilla5.jpg\n",
            "train_fringilla_coelebs.jpg        train_sylvia_atricapilla6.jpg\n",
            "train_garrulus_glandarius10.jpg    train_sylvia_atricapilla7.jpg\n",
            "train_garrulus_glandarius2.jpg     train_sylvia_atricapilla8.jpg\n",
            "train_garrulus_glandarius3.jpg     train_sylvia_atricapilla9.jpg\n",
            "train_garrulus_glandarius4.jpg     train_sylvia_atricapilla.jpg\n",
            "train_garrulus_glandarius5.jpg     train_troglodytes_troglodytes10.jpg\n",
            "train_garrulus_glandarius6.jpg     train_troglodytes_troglodytes2.jpg\n",
            "train_garrulus_glandarius7.jpg     train_troglodytes_troglodytes3.jpg\n",
            "train_garrulus_glandarius8.jpg     train_troglodytes_troglodytes4.jpg\n",
            "train_garrulus_glandarius9.jpg     train_troglodytes_troglodytes5.jpg\n",
            "train_garrulus_glandarius.jpg      train_troglodytes_troglodytes6.jpg\n",
            "train_luscinia_megarhynchos10.jpg  train_troglodytes_troglodytes7.jpg\n",
            "train_luscinia_megarhynchos2.jpg   train_troglodytes_troglodytes8.jpg\n",
            "train_luscinia_megarhynchos3.jpg   train_troglodytes_troglodytes9.jpg\n",
            "train_luscinia_megarhynchos4.jpg   train_troglodytes_troglodytes.jpg\n",
            "train_luscinia_megarhynchos5.jpg   train_turdus_merula10.jpg\n",
            "train_luscinia_megarhynchos6.jpg   train_turdus_merula2.jpg\n",
            "train_luscinia_megarhynchos7.jpg   train_turdus_merula3.jpg\n",
            "train_luscinia_megarhynchos8.jpg   train_turdus_merula4.jpg\n",
            "train_luscinia_megarhynchos9.jpg   train_turdus_merula5.jpg\n",
            "train_luscinia_megarhynchos.jpg    train_turdus_merula6.jpg\n",
            "train_motacilla_alba10.jpg         train_turdus_merula7.jpg\n",
            "train_motacilla_alba2.jpg          train_turdus_merula8.jpg\n",
            "train_motacilla_alba3.jpg          train_turdus_merula9.jpg\n",
            "train_motacilla_alba4.jpg          train_turdus_merula.jpg\n",
            "train_motacilla_alba5.jpg          train_turdus_philomelos10.jpg\n",
            "train_motacilla_alba6.jpg          train_turdus_philomelos2.jpg\n",
            "train_motacilla_alba7.jpg          train_turdus_philomelos3.jpg\n",
            "train_motacilla_alba8.jpg          train_turdus_philomelos4.jpg\n",
            "train_motacilla_alba9.jpg          train_turdus_philomelos5.jpg\n",
            "train_motacilla_alba.jpg           train_turdus_philomelos6.jpg\n",
            "train_oriolus_oriolus10.jpg        train_turdus_philomelos7.jpg\n",
            "train_oriolus_oriolus2.jpg         train_turdus_philomelos8.jpg\n",
            "train_oriolus_oriolus3.jpg         train_turdus_philomelos9.jpg\n",
            "train_oriolus_oriolus4.jpg         train_turdus_philomelos.jpg\n",
            "train_oriolus_oriolus5.jpg         train_turdus_viscivorus10.jpg\n",
            "train_oriolus_oriolus6.jpg         train_turdus_viscivorus2.jpg\n",
            "train_oriolus_oriolus7.jpg         train_turdus_viscivorus3.jpg\n",
            "train_oriolus_oriolus8.jpg         train_turdus_viscivorus4.jpg\n",
            "train_oriolus_oriolus9.jpg         train_turdus_viscivorus5.jpg\n",
            "train_oriolus_oriolus.jpg          train_turdus_viscivorus6.jpg\n",
            "train_parus_caeruleus10.jpg        train_turdus_viscivorus7.jpg\n",
            "train_parus_caeruleus2.jpg         train_turdus_viscivorus8.jpg\n",
            "train_parus_caeruleus3.jpg         train_turdus_viscivorus9.jpg\n",
            "train_parus_caeruleus4.jpg         train_turdus_viscivorus.jpg\n"
          ],
          "name": "stdout"
        }
      ]
    },
    {
      "cell_type": "code",
      "metadata": {
        "id": "8cPgDJvFR51N",
        "colab_type": "code",
        "colab": {}
      },
      "source": [
        ""
      ],
      "execution_count": 0,
      "outputs": []
    }
  ]
}